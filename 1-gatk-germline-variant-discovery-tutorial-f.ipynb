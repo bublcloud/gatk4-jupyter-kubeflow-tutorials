{
 "cells": [
  {
   "cell_type": "markdown",
   "metadata": {},
   "source": [
    "GATK Tutorial :: Germline SNPs & Indels :: Worksheet\n",
    "===================="
   ]
  },
  {
   "cell_type": "markdown",
   "metadata": {},
   "source": [
    "**March 2019**  \n",
    "\n",
    "| . | . |\n",
    "|:---:|:---:|\n",
    "| <img src=\"https://storage.googleapis.com/gatk-tutorials/workshop_1903/2-germline/images/vd-image1.png\" alt=\"drawing\" width=\"2000\"/> | The tutorial demonstrates an effective workflow for joint calling germline SNPs and indels in cohorts of multiple samples. The workflow applies to whole genome or exome data. Specifically, the tutorial uses a trio of WG sample snippets to demonstrate HaplotypeCaller's GVCF workflow for joint variant analysis. We use a GenomicsDB database structure, perform a genotype refinement based on family pedigree, and evaluate the effects of refinement. |\n",
    "\n",
    "The tutorial was last tested with the broadinstitute/gatk:4.1.0.0 docker and IGV v2.4.13.\n",
    "\n",
    "---\n",
    "**Table of Contents**   \n",
    "1. HAPLOTYPECALLER BASICS\t\n",
    "   1.1 Call variants with HaplotypeCaller in default VCF mode\t\n",
    "   1.2 View realigned reads and assembled haplotypes\t\n",
    "2. GVCF WORKFLOW\t\n",
    "   2.1 Run HaplotypeCaller on a single bam file in GVCF mode\t\n",
    "   2.2 Consolidate GVCFs using GenomicsDBImport\t\n",
    "   2.3 Run joint genotyping on the trio to generate the VCF\t\n",
    "3. GENOTYPE REFINEMENT\t\n",
    "   3.1 Refine the genotype calls with CalculateGenotypePosteriors\t\n",
    "   3.2 Compare changes with CollectVariantCallingMetrics\t\n",
    "---"
   ]
  },
  {
   "cell_type": "markdown",
   "metadata": {},
   "source": [
    "### First, make sure the notebook is using a Python 3 kernel in the top right corner.\n",
    "A kernel is a _computational engine_ that executes the code in the notebook. We can execute GATK commands using _Python Magic_ (`!`)."
   ]
  },
  {
   "cell_type": "markdown",
   "metadata": {},
   "source": [
    "### How to run this notebook:\n",
    "- **Click to select a gray cell and then pressing SHIFT+ENTER to run the cell.**\n",
    "- **Write results to `/home/jovyan/2-germline-vd/sandbox/`. To access the directory, click on the upper-left jupyter icon.**"
   ]
  },
  {
   "cell_type": "code",
   "execution_count": null,
   "metadata": {},
   "outputs": [],
   "source": [
    "# Create your sandbox directory\n",
    "! mkdir -p /home/jovyan/2-germline-vd/sandbox/\n"
   ]
  },
  {
   "cell_type": "markdown",
   "metadata": {},
   "source": [
    "### Enable reading  bucket data "
   ]
  },
  {
   "cell_type": "code",
   "execution_count": null,
   "metadata": {},
   "outputs": [],
   "source": [
    "# Check if data is accessible. The command should list several gs:// URLs.\n",
    "! gsutil ls gs://gatk-tutorials/workshop_1903/2-germline/"
   ]
  },
  {
   "cell_type": "code",
   "execution_count": null,
   "metadata": {},
   "outputs": [],
   "source": [
    "! mkdir /home/jovyan/2-germline-vd/ref\n",
    "! mkdir /home/jovyan/2-germline-vd/resources\n",
    "! gsutil cp gs://gatk-tutorials/workshop_1903/2-germline/ref/* /home/jovyan/2-germline-vd/ref\n",
    "! gsutil cp gs://gatk-tutorials/workshop_1903/2-germline/trio.ped /home/jovyan/2-germline-vd/\n",
    "! gsutil cp gs://gatk-tutorials/workshop_1903/2-germline/resources/* /home/jovyan/2-germline-vd/resources/"
   ]
  },
  {
   "cell_type": "markdown",
   "metadata": {},
   "source": [
    "### Setup IGV\n",
    "\n",
    "- Download IGV to your local machine if you haven't already done so.\n",
    "- Follow the instructions to setup your google account with IGV using this document: [Browse_Genomic_Data](https://googlegenomics.readthedocs.io/en/latest/use_cases/browse_genomic_data/igv.html).\n",
    "  This allows you to access data from your workspace bucket.\n"
   ]
  },
  {
   "cell_type": "markdown",
   "metadata": {},
   "source": [
    "## Call variants with HaplotypeCaller in default VCF mode\n",
    "In this first step we run HaplotypeCaller in its simplest form on a single sample to get familiar with its operation and to learn some useful tips and tricks.  \n"
   ]
  },
  {
   "cell_type": "code",
   "execution_count": null,
   "metadata": {},
   "outputs": [],
   "source": [
    "! gatk HaplotypeCaller \\\n",
    "    -R gs://gatk-tutorials/workshop_1903/2-germline/ref/ref.fasta \\\n",
    "    -I gs://gatk-tutorials/workshop_1903/2-germline/bams/mother.bam \\\n",
    "    -O /home/jovyan/2-germline-vd/sandbox/motherHC.vcf \\\n",
    "    -L 20:10,000,000-10,200,000"
   ]
  },
  {
   "source": [
    "You can browse in the jupyter file explorer and download the /home/jovyan/2-germline-vd/sandbox/motherHC.vcf file to your computer to analyse with IGV if you want. Yes, sorry. We said we would not use your laptop. "
   ],
   "cell_type": "markdown",
   "metadata": {}
  },
  {
   "cell_type": "markdown",
   "metadata": {},
   "source": [
    "Load the input BAM file as well as the output VCF (sandbox/motherHC.vcf) in IGV and go to the coordinates 20:10,002,294-10,002,623. Be sure the genome is set to b37.\n",
    "\n",
    "We see that HaplotypeCaller called a homozygous variant insertion of three T bases. How is this possible when so few reads seem to support an insertion at this position?\n",
    "\n",
    "| Tool Tip | . |\n",
    "| --- | :--- |\n",
    "| <img src=\"https://storage.googleapis.com/gatk-tutorials/workshop_1903/2-germline/images/vd-image6.png\" alt=\"drawing\" width=\"1000\"/> | When you encounter indel-related weirdness, turn on the display of soft-clips, which IGV turns off by default. Go to View > Preferences > Alignments and select “Show soft-clipped bases” |\n",
    "\n",
    "With soft clip display turned on, the region lights up with mismatching bases. For these reads, the aligner (here, BWA MEM) found the penalty of soft-clipping mismatching bases less than the penalty of inserting bases or inserting a gap. \n",
    "\n",
    "<img src=\"https://storage.googleapis.com/gatk-tutorials/workshop_1903/2-germline/images/vd-image7.png\" alt=\"drawing\" width=\"1000\"/>"
   ]
  },
  {
   "cell_type": "markdown",
   "metadata": {},
   "source": [
    "1.2 View realigned reads and assembled haplotypes\n",
    "Let's take a peek under the hood of HaplotypeCaller. HaplotypeCaller has a parameter called -bamout, which allows you to ask for the realigned reads. These realigned reads are what HaplotypeCaller uses to make its variant calls, so you will be able to see if a realignment fixed the messy region in the original bam.\n",
    "\n",
    "Run the following command:"
   ]
  },
  {
   "cell_type": "code",
   "execution_count": null,
   "metadata": {},
   "outputs": [],
   "source": [
    "! mkdir /home/jovyan/2-germline-vd/bams\n",
    "! gsutil cp gs://gatk-tutorials/workshop_1903/2-germline/bams/* /home/jovyan/2-germline-vd/bams"
   ]
  },
  {
   "cell_type": "code",
   "execution_count": null,
   "metadata": {},
   "outputs": [],
   "source": [
    "\n",
    "! gatk HaplotypeCaller \\\n",
    "    -R /home/jovyan/2-germline-vd/ref/ref.fasta \\\n",
    "    -I /home/jovyan/2-germline-vd/bams/mother.bam \\\n",
    "    -O /home/jovyan/2-germline-vd/sandbox/motherHCdebug.vcf \\\n",
    "    -bamout /home/jovyan/2-germline-vd/sandbox/motherHCdebug.bam \\\n",
    "    -L 20:10,002,000-10,003,000"
   ]
  },
  {
   "cell_type": "code",
   "execution_count": null,
   "metadata": {},
   "outputs": [],
   "source": [
    "You can again download the /home/jovyan/2-germline-vd/sandbox/motherHCdebug.bam  folder to your computer."
   ]
  },
  {
   "cell_type": "markdown",
   "metadata": {},
   "source": [
    "Since you are only interested in looking at that messy region, give the tool a narrowed interval with -L 20:10,002,000-10,003,000. \n",
    "\n",
    "Load the output BAM (sandbox/motherHCdebug.bam) in IGV, and switch to Collapsed view (right-click>Collapsed). You should still be zoomed in on the same coordinates (20:10,002,294-10,002,623), and have the mother.bam track loaded for comparison.\n",
    "\n",
    "<img src=\"https://storage.googleapis.com/gatk-tutorials/workshop_1903/2-germline/images/vd-image8.png\" alt=\"drawing\" width=\"800\"/>"
   ]
  },
  {
   "cell_type": "markdown",
   "metadata": {},
   "source": [
    "After realignment by HaplotypeCaller (the bottom track), almost all the reads show the insertion, and the messy soft clips from the original bam are gone. HaplotypeCaller will utilize soft-clipped sequences towards realignment. Expand the reads in the output BAM (right-click>Expanded view), and you can see that all the insertions are in phase with the C/T SNP. \n",
    "\n",
    "This shows that HaplotypeCaller found a different alignment after performing its local graph assembly step. The reassembled region provided HaplotypeCaller with enough support to call the indel, which position-based callers like UnifiedGenotyper would have missed.\n",
    "\n",
    "<img src=\"https://storage.googleapis.com/gatk-tutorials/workshop_1903/2-germline/images/vd-image9.png\" alt=\"drawing\" width=\"800\"/>"
   ]
  },
  {
   "cell_type": "markdown",
   "metadata": {},
   "source": [
    "➤ Focus on the insertion locus. How many different types of insertions do you see? Which one did HaplotypeCaller call in the VCF? What do you think of this choice?\n",
    "\n",
    "There is more to a BAM than meets the eye--or at least, what you can see in this view of IGV. Right-click on the motherHCdebug.bam track to bring up the view options menu. Select Color alignments by, and choose read group. Your gray reads should now be colored similar to the screenshot below.\n",
    "\n",
    "<img src=\"https://storage.googleapis.com/gatk-tutorials/workshop_1903/2-germline/images/vd-image10.png\" alt=\"drawing\" width=\"800\"/>"
   ]
  },
  {
   "cell_type": "markdown",
   "metadata": {},
   "source": [
    "Some of the first reads, shown in red at the top of the pile, are not real reads. These represent artificial haplotypes that were constructed by HaplotypeCaller, and are tagged with a special read group identifier, RG:Z:ArtificialHaplotypeRG to differentiate them from actual reassembled reads. You can click on an artificial read to see this tag under Read Group. "
   ]
  },
  {
   "cell_type": "markdown",
   "metadata": {},
   "source": [
    "| . | . |\n",
    "| --- | --- |\n",
    "| ➤ How is each of the three artificial haplotypes different from the others? Let's separate these artificial reads to the top of the track. Select Group alignments by, and choose read group. | <img src=\"https://storage.googleapis.com/gatk-tutorials/workshop_1903/2-germline/images/vd-image11.png\" alt=\"drawing\" width=\"1000\"/> |\n",
    "\n",
    "Now we will color the reads differently. Select Color alignments by, choose tag, and type in HC. HaplotypeCaller labels reassembled reads that have unequivocal support for a haplotype (based on likelihood calculations) with an HC tag value that matches the HC tag value of the corresponding haplotype. \n",
    "\n",
    "<img src=\"https://storage.googleapis.com/gatk-tutorials/workshop_1903/2-germline/images/vd-image12.png\" alt=\"drawing\" width=\"500\"/>\n",
    "\n",
    "➤ Again, what do you think of HaplotypeCaller's choice to call the three-base insertion instead of the two-base insertion? \n",
    "\n",
    "Zoom out to see the three active regions within the scope of the interval we provided. We can see that HaplotypeCaller considered twelve, three, and six putative haplotypes, respectively, for the regions. "
   ]
  },
  {
   "cell_type": "markdown",
   "metadata": {},
   "source": [
    "# GVCF workflow"
   ]
  },
  {
   "cell_type": "markdown",
   "metadata": {},
   "source": [
    "## Run HaplotypeCaller on a single bam file in GVCF mode\n",
    "\n",
    "It is possible to genotype a multi-sample cohort simultaneously with HaplotypeCaller. However, this scales poorly. For a scalable analysis, GATK offers the GVCF workflow, which separates BAM-level variant calling from genotyping. In the GVCF workflow, HaplotypeCaller is run with the -ERC GVCF option on each individual BAM file and produces a GVCF, which adheres to VCF format specifications while giving information about the data at every genomic position. GenotypeGVCFs then genotypes the samples in a cohort via the given GVCFs.\n",
    "\n",
    "Run HaplotypeCaller in GVCF mode on the mother’s bam. This will produce a GVCF file that contains likelihoods for each possible genotype for the variant alleles, including a symbolic <NON_REF> allele. You'll see what this looks like soon."
   ]
  },
  {
   "cell_type": "code",
   "execution_count": null,
   "metadata": {},
   "outputs": [],
   "source": [
    "! gatk HaplotypeCaller \\\n",
    "    -R gs://gatk-tutorials/workshop_1903/2-germline/ref/ref.fasta \\\n",
    "    -I gs://gatk-tutorials/workshop_1903/2-germline/bams/mother.bam \\\n",
    "    -O /home/jovyan/2-germline-vd/sandbox/mother.g.vcf \\\n",
    "    -ERC GVCF \\\n",
    "    -L 20:10,000,000-10,200,000"
   ]
  },
  {
   "cell_type": "code",
   "execution_count": null,
   "metadata": {},
   "outputs": [],
   "source": [
    "Download /home/jovyan/2-germline-vd/sandbox/mother.g.vcf for local analysis"
   ]
  },
  {
   "cell_type": "markdown",
   "metadata": {},
   "source": [
    "In the interest of time, we have supplied the other sample GVCFs in the bundle, but normally you would run them individually in the same way as the first. \n",
    "\n",
    "Let's take a look at a GVCF in IGV. Start a new session to clear your IGV screen (File>New Session), then load the GVCF for each family member (gvcfs/mother.g.vcf, gvcfs/father.g.vcf, gvcfs/son.g.vcf). Zoom in on 20:10,002,371-10,002,546. You should see this:\n",
    "\n",
    "<img src=\"https://storage.googleapis.com/gatk-tutorials/workshop_1903/2-germline/images/vd-image13.png\" alt=\"drawing\" width=\"800\"/>"
   ]
  },
  {
   "cell_type": "markdown",
   "metadata": {},
   "source": [
    "Notice anything different from the VCF? Along with the colorful variant sites, you see many gray blocks in the GVCF representing reference confidence intervals. The gray blocks represent the blocks where the sample appears to be homozygous reference or invariant. The likelihoods are evaluated against an abstract non-reference allele and so these are referred to somewhat counterintuitively as NON_REF blocks of the GVCF. Each belongs to different contiguous quality GVCFBlock blocks. \n",
    "\n",
    "If we peek into the GVCF file, we actually see in the ALT column a symbolic <NON_REF> allele, which represents non-called but possible non-reference alleles. Using the likelihoods against the <NON_REF> allele we assign likelihoods to alleles that weren’t seen in the current sample during joint genotyping. Additionally, for NON_REF blocks, the INFO field gives the end position of the homozygous-reference block. The FORMAT field gives Phred-scaled likelihoods (PL) for each potential genotype given the alleles including the NON_REF allele.\n",
    "\n",
    "Later, the genotyping step will retain only sites that are confidently variant against the reference. \n"
   ]
  },
  {
   "cell_type": "markdown",
   "metadata": {},
   "source": [
    "## Consolidate GVCFs using GenomicsDBImport\n",
    "For the next step, we need to consolidate the GVCFs into a GenomicsDB datastore. That might sound complicated but it's actually very straightforward."
   ]
  },
  {
   "cell_type": "code",
   "execution_count": null,
   "metadata": {},
   "outputs": [],
   "source": [
    "! gatk GenomicsDBImport \\\n",
    "    -V gs://gatk-tutorials/workshop_1903/2-germline/gvcfs/mother.g.vcf.gz \\\n",
    "    -V gs://gatk-tutorials/workshop_1903/2-germline/gvcfs/father.g.vcf.gz \\\n",
    "    -V gs://gatk-tutorials/workshop_1903/2-germline/gvcfs/son.g.vcf.gz \\\n",
    "    --genomicsdb-workspace-path /home/jovyan/2-germline-vd/sandbox/trio \\\n",
    "    --intervals 20:10,000,000-10,200,000"
   ]
  },
  {
   "cell_type": "markdown",
   "metadata": {},
   "source": [
    "_Note: older versions of GenomicsDBImport accept only one interval at a time. Each interval can be at most a contig. To run on a full genome, we would need to define a set of intervals, and execute this command on each interval by itself.  See this WDL script for an example pipelining solution. In GATK v4.0.6.0+, GenomicsDB can import  multiple intervals per command._\n",
    "\n",
    "For those who cannot use GenomicDBImport, the alternative is to consolidate GVCFs with CombineGVCFs. Keep in mind though that the GenomicsDB intermediate allows you to scale analyses to large cohort sizes efficiently. Because it's not trivial to examine the data within the database, we will extract the trio's combined data from the GenomicsDB database using SelectVariants. "
   ]
  },
  {
   "cell_type": "code",
   "execution_count": null,
   "metadata": {},
   "outputs": [],
   "source": [
    "# Create a soft link to sandbox\n",
    "! rm -r sandbox\n",
    "! ln -s /home/jovyan/2-germline-vd/sandbox/ sandbox"
   ]
  },
  {
   "cell_type": "code",
   "execution_count": null,
   "metadata": {},
   "outputs": [],
   "source": [
    "! gatk SelectVariants \\\n",
    "    -R /home/jovyan/2-germline-vd/ref/ref.fasta \\\n",
    "    -V gendb://sandbox/trio \\\n",
    "    -O /home/jovyan/2-germline-vd/sandbox/trio_selectvariants.g.vcf"
   ]
  },
  {
   "cell_type": "markdown",
   "metadata": {},
   "source": [
    "➤ Take a look inside the combined GVCF. How many samples are represented? What is going on with the genotype field (GT)? What does this genotype notation mean?"
   ]
  },
  {
   "cell_type": "code",
   "execution_count": null,
   "metadata": {},
   "outputs": [],
   "source": [
    "Download /home/jovyan/2-germline-vd/sandbox/trio_selectvariants.g.vcf for further analysis"
   ]
  },
  {
   "cell_type": "markdown",
   "metadata": {},
   "source": [
    "## Run joint genotyping on the trio to generate the VCF\n",
    "The last step is to joint genotype variant sites for the samples using GenotypeGVCFs. "
   ]
  },
  {
   "cell_type": "code",
   "execution_count": null,
   "metadata": {},
   "outputs": [],
   "source": [
    "! gatk GenotypeGVCFs \\\n",
    "    -R /home/jovyan/2-germline-vd/ref/ref.fasta \\\n",
    "    -V gendb://sandbox/trio \\\n",
    "    -O /home/jovyan/2-germline-vd/sandbox/trioGGVCF.vcf \\\n",
    "    -L 20:10,000,000-10,200,000"
   ]
  },
  {
   "cell_type": "markdown",
   "metadata": {},
   "source": [
    "The calls made by GenotypeGVCFs and HaplotypeCaller run in multisample mode should mostly be equivalent, especially as cohort sizes increase. However, there can be some marginal differences in borderline calls, i.e. low-quality variant sites, in particular for small cohorts with low coverage. For such cases, joint genotyping directly with HaplotypeCaller and/or using the new quality score model with GenotypeGVCFs (turned on with -new-qual) may be preferable.\n",
    "\n",
    "➤ What would the command to run HaplotypeCaller jointly on the three samples look like? How about the command that also produces a reassembled BAM and uses the new quality score model?\n",
    "\n",
    "```\n",
    "gatk HaplotypeCaller \\\n",
    "    -R ref/ref.fasta \\\n",
    "    -I bams/mother.bam \\\n",
    "    -I bams/father.bam \\\n",
    "    -I bams/son.bam \\\n",
    "    -O sandbox/trio_hcjoint_nq.vcf \\\n",
    "    -L 20:10,000,000-10,200,000 \\\n",
    "    -new-qual \\\n",
    "    -bamout sandbox/trio_hcjoint_nq.bam\n",
    "```\n",
    "\n",
    "In the interest of time, we do not run the above command. Note the BAMOUT will contain reassembled reads for all the input samples. \n",
    "\n",
    "Let's circle back to the locus we examined at the start. Load sandbox/trioGGVCF.vcf into IGV and navigate to 20:10,002,376-10,002,550.\n",
    "\n",
    "<img src=\"https://storage.googleapis.com/gatk-tutorials/workshop_1903/2-germline/images/vd-image14.png\" alt=\"drawing\" width=\"800\"/>"
   ]
  },
  {
   "cell_type": "code",
   "execution_count": null,
   "metadata": {},
   "outputs": [],
   "source": [
    "Download /home/jovyan/2-germline-vd/sandbox/trioGGVCF.vcf for local analysis"
   ]
  },
  {
   "cell_type": "markdown",
   "metadata": {},
   "source": [
    "➤ Focus on NA12877's (father) genotype call at 20:10002458. Knowing the familial relationship for the three samples and the child's homozygous-variant genotype, what do you think about the father's HOM_REF call?\n",
    "\n",
    "_Results from GATK v4.0.1.0 also show HOM_REF as well but give PLs (phred-scaled likelihoods) of 0,0,460. Changes in v4.0.9.0 improve hom-ref GQs near indels in GVCFs. The table shows this is an ambiguous site for other callers as well._\n",
    "\n",
    "| . | . |\n",
    "| --- | --- |\n",
    "| <img src=\"https://storage.googleapis.com/gatk-tutorials/workshop_1903/2-germline/images/vd-image3.png\" alt=\"drawing\" width=\"500\"/> | <img src=\"https://storage.googleapis.com/gatk-tutorials/workshop_1903/2-germline/images/vd-image2.png\" alt=\"drawing\" width=\"150\"/> |"
   ]
  },
  {
   "cell_type": "markdown",
   "metadata": {},
   "source": [
    "# GENOTYPE REFINEMENT"
   ]
  },
  {
   "cell_type": "markdown",
   "metadata": {},
   "source": [
    "## Refine the genotype calls with CalculateGenotypePosteriors\n",
    "We can systematically refine our calls for the trio using CalculateGenotypePosteriors. For starters, we can use pedigree information, which the tutorial provides in the trio.ped file. Second, we can use population priors. For priors we use a population allele frequencies resource derived from gnomAD."
   ]
  },
  {
   "cell_type": "code",
   "execution_count": null,
   "metadata": {},
   "outputs": [],
   "source": [
    "! gatk CalculateGenotypePosteriors \\\n",
    "    -V /home/jovyan/2-germline-vd/sandbox/trioGGVCF.vcf \\\n",
    "    -ped /home/jovyan/2-germline-vd/trio.ped \\\n",
    "    --skip-population-priors \\\n",
    "    -O /home/jovyan/2-germline-vd/sandbox/trioCGP.vcf"
   ]
  },
  {
   "cell_type": "code",
   "execution_count": null,
   "metadata": {},
   "outputs": [],
   "source": [
    "! gatk CalculateGenotypePosteriors \\\n",
    "    -V /home/jovyan/2-germline-vd/sandbox/trioGGVCF.vcf \\\n",
    "    -ped /home/jovyan/2-germline-vd/trio.ped \\\n",
    "    --supporting-callsets /home/jovyan/2-germline-vd/resources/af-only-gnomad.chr20subset.b37.vcf.gz \\\n",
    "    -O /home/jovyan/2-germline-vd/sandbox/trioCGP_gnomad.vcf"
   ]
  },
  {
   "cell_type": "code",
   "execution_count": null,
   "metadata": {},
   "outputs": [],
   "source": [
    "Download /home/jovyan/2-germline-vd/sandbox/trioCGP.vcf\n",
    "and /home/jovyan/2-germline-vd/sandbox/trioCGP_gnomad.vcf\n",
    "for local analysis"
   ]
  },
  {
   "cell_type": "markdown",
   "metadata": {},
   "source": [
    "Add both sandbox/trioCGP.vcf and sandbox/trioCGP_gnomad.vcf to the IGV session. \n",
    "\n",
    "| . | . |\n",
    "| --- | --- |\n",
    "| ➤ What has changed? What has not changed? | <img src=\"https://storage.googleapis.com/gatk-tutorials/workshop_1903/2-germline/images/vd-image15.png\" alt=\"drawing\" width=\"370\"/> |"
   ]
  },
  {
   "cell_type": "markdown",
   "metadata": {},
   "source": [
    "CalculateGenotypePosteriors adds three new FORMAT annotations–-PP, JL and JP. \n",
    "\n",
    "- Phred-scaled Posterior Probability (PP) basically refines the PL values. It incorporates the prior expectations for the given pedigree and/or population allele frequencies. \n",
    "- Joint Trio Likelihood (JL) is the Phred-scaled joint likelihood of the posterior genotypes for the trio being incorrect.\n",
    "- Joint Trio Posterior (JP) is the Phred-scaled posterior probability of the posterior genotypes for the three samples being incorrect.\n",
    "\n"
   ]
  },
  {
   "cell_type": "markdown",
   "metadata": {},
   "source": [
    "| . | . |\n",
    "| --- | --- |\n",
    "| <img src=\"https://storage.googleapis.com/gatk-tutorials/workshop_1903/2-germline/images/vd-image4.png\" alt=\"drawing\" width=\"370\"/> |<img src=\"https://storage.googleapis.com/gatk-tutorials/workshop_1903/2-germline/images/vd-image5.png\" alt=\"drawing\" width=\"400\"/> |\n",
    "\n",
    "You can learn more about the Genotype Refinement workflow in Article#11074 at <https://software.broadinstitute.org/gatk/documentation/article?id=11074>.  "
   ]
  },
  {
   "cell_type": "markdown",
   "metadata": {},
   "source": [
    "## Compare changes with CollectVariantCallingMetrics \n",
    "There are a few different GATK/Picard tools to compare site-level and genotype-level concordance that the Callset Evaluation presentation goes over. Here we perform a quick sanity-check on the refinements by comparing the number of GQ0 variants. The commands for the original callset and for that refined with the pedigree are below."
   ]
  },
  {
   "cell_type": "code",
   "execution_count": null,
   "metadata": {},
   "outputs": [],
   "source": [
    "! gatk CollectVariantCallingMetrics \\\n",
    "    -I /home/jovyan/2-germline-vd/sandbox/trioGGVCF.vcf \\\n",
    "    --DBSNP /home/jovyan/2-germline-vd/resources/dbsnp.vcf \\\n",
    "    -O /home/jovyan/2-germline-vd/sandbox/trioGGVCF_metrics"
   ]
  },
  {
   "cell_type": "code",
   "execution_count": null,
   "metadata": {},
   "outputs": [],
   "source": [
    "! cat /home/jovyan/2-germline-vd/sandbox/trioGGVCF_metrics.variant_calling_summary_metrics"
   ]
  },
  {
   "cell_type": "code",
   "execution_count": null,
   "metadata": {},
   "outputs": [],
   "source": [
    "! gatk CollectVariantCallingMetrics \\\n",
    "    -I /home/jovyan/2-germline-vd/sandbox/trioCGP.vcf \\\n",
    "    --DBSNP /home/jovyan/2-germline-vd/resources/dbsnp.vcf \\\n",
    "    -O /home/jovyan/2-germline-vd/sandbox/trioCGP_metrics"
   ]
  },
  {
   "cell_type": "code",
   "execution_count": null,
   "metadata": {},
   "outputs": [],
   "source": [
    "! cat /home/jovyan/2-germline-vd/sandbox/trioCGP_metrics.variant_calling_summary_metrics"
   ]
  },
  {
   "cell_type": "markdown",
   "metadata": {},
   "source": [
    "CollectVariantCallingMetrics produces both summary and detail metrics. The summary metrics provide cohort-level variant metrics, while the detail metrics segment the variant metrics for each sample in the callset. The detail metrics give the same metrics as the summary metrics plus the following five additional fields: sample alias, het to homvar ratio, percent GQ0 variants, total GQ0 variants, and total het depth. Metrics are explained at <https://broadinstitute.github.io/picard/picard-metric-definitions.html>."
   ]
  }
 ],
 "metadata": {
  "kernelspec": {
   "display_name": "Python 3",
   "language": "python",
   "name": "python3"
  },
  "language_info": {
   "codemirror_mode": {
    "name": "ipython",
    "version": 3
   },
   "file_extension": ".py",
   "mimetype": "text/x-python",
   "name": "python",
   "nbconvert_exporter": "python",
   "pygments_lexer": "ipython3",
   "version": "3.8.8"
  },
  "toc": {
   "base_numbering": 1,
   "nav_menu": {},
   "number_sections": true,
   "sideBar": true,
   "skip_h1_title": false,
   "title_cell": "Table of Contents",
   "title_sidebar": "Contents",
   "toc_cell": false,
   "toc_position": {},
   "toc_section_display": true,
   "toc_window_display": false
  }
 },
 "nbformat": 4,
 "nbformat_minor": 4
}